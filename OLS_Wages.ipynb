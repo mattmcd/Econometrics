{
 "metadata": {
  "name": "OLS_Wages"
 }, 
 "nbformat": 2, 
 "worksheets": [
  {
   "cells": [
    {
     "cell_type": "markdown", 
     "source": [
      "#Example from 'A Guide to Modern Econometrics' by Marno Verbeek.", 
      "", 
      "This example is from Chapter 2 and demonstrates common steps in an __Ordinary Least Squares__ (OLS) Regression to fit a linear model to data."
     ]
    }, 
    {
     "cell_type": "code", 
     "collapsed": false, 
     "input": [
      "pylab inline"
     ], 
     "language": "python", 
     "outputs": [
      {
       "output_type": "stream", 
       "stream": "stdout", 
       "text": [
        "", 
        "Welcome to pylab, a matplotlib-based Python environment [backend: module://IPython.zmq.pylab.backend_inline].", 
        "For more information, type 'help(pylab)'."
       ]
      }
     ], 
     "prompt_number": 1
    }, 
    {
     "cell_type": "code", 
     "collapsed": true, 
     "input": [
      "import numpy as np", 
      "import pandas as pd", 
      "import statsmodels.api as sm"
     ], 
     "language": "python", 
     "outputs": [], 
     "prompt_number": 2
    }, 
    {
     "cell_type": "markdown", 
     "source": [
      "Load data from the US National Logitudinal Survey (NLS) ", 
      "relating to 1987.  ", 
      "This dataset consists of a sample of wages and background factors such as", 
      "gender, race and years of schooling."
     ]
    }, 
    {
     "cell_type": "code", 
     "collapsed": false, 
     "input": [
      "wages = pd.read_table('data/wages1.asc', sep =' ')", 
      "wages"
     ], 
     "language": "python", 
     "outputs": [
      {
       "html": [
        "<pre>", 
        "&ltclass 'pandas.core.frame.DataFrame'&gt", 
        "Int64Index: 3296 entries, 0 to 3295", 
        "Data columns (total 4 columns):", 
        "EXPER     3296  non-null values", 
        "MALE      3296  non-null values", 
        "SCHOOL    3296  non-null values", 
        "WAGE      3296  non-null values", 
        "dtypes: float64(1), int64(3)", 
        "</pre>"
       ], 
       "output_type": "pyout", 
       "prompt_number": 3, 
       "text": [
        "<class 'pandas.core.frame.DataFrame'>", 
        "Int64Index: 3296 entries, 0 to 3295", 
        "Data columns (total 4 columns):", 
        "EXPER     3296  non-null values", 
        "MALE      3296  non-null values", 
        "SCHOOL    3296  non-null values", 
        "WAGE      3296  non-null values", 
        "dtypes: float64(1), int64(3)"
       ]
      }
     ], 
     "prompt_number": 3
    }, 
    {
     "cell_type": "markdown", 
     "source": [
      "Fit an Ordinary Least Squares (OLS) model to explain Wage by a linear combination", 
      "of a constant term and a dummy variable (0 or 1) representing the gender of each individual."
     ]
    }, 
    {
     "cell_type": "code", 
     "collapsed": true, 
     "input": [
      "model = sm.OLS( wages.WAGE, sm.add_constant( wages.MALE, prepend=True ))"
     ], 
     "language": "python", 
     "outputs": [], 
     "prompt_number": 4
    }, 
    {
     "cell_type": "code", 
     "collapsed": true, 
     "input": [
      "results = model.fit()"
     ], 
     "language": "python", 
     "outputs": [], 
     "prompt_number": 5
    }, 
    {
     "cell_type": "markdown", 
     "source": [
      "Here we see that the observed Wage can be modelled as Wage = $ \\$5.15 + \\$1.28 x_m + \\epsilon$, where $x_m$ is the dummy variable taking value 1 if the individual is male and $\\epsilon$ is the error."
     ]
    }, 
    {
     "cell_type": "code", 
     "collapsed": false, 
     "input": [
      "results.params"
     ], 
     "language": "python", 
     "outputs": [
      {
       "output_type": "pyout", 
       "prompt_number": 6, 
       "text": [
        "const    5.146924", 
        "MALE     1.277686", 
        "dtype: float64"
       ]
      }
     ], 
     "prompt_number": 6
    }, 
    {
     "cell_type": "markdown", 
     "source": [
      "The standard error of each fit parameter gives an indication of the uncertainty in the parameter estimate."
     ]
    }, 
    {
     "cell_type": "code", 
     "collapsed": false, 
     "input": [
      "results.bse"
     ], 
     "language": "python", 
     "outputs": [
      {
       "output_type": "pyout", 
       "prompt_number": 7, 
       "text": [
        "const    0.101103", 
        "MALE     0.139673", 
        "dtype: float64"
       ]
      }
     ], 
     "prompt_number": 7
    }, 
    {
     "cell_type": "markdown", 
     "source": [
      "Of interest is how much of the total Wage variation is explained by this model.  ", 
      "This is given by the $R^2$ coefficient, which in this case is 2.48%.  ", 
      "This implies that gender is not the main explanation for Wage variation here."
     ]
    }, 
    {
     "cell_type": "code", 
     "collapsed": false, 
     "input": [
      "results.rsquared"
     ], 
     "language": "python", 
     "outputs": [
      {
       "output_type": "pyout", 
       "prompt_number": 8, 
       "text": [
        "0.02477448307281771"
       ]
      }
     ], 
     "prompt_number": 8
    }, 
    {
     "cell_type": "markdown", 
     "source": [
      "We can also see an overall summary of the regression:"
     ]
    }, 
    {
     "cell_type": "code", 
     "collapsed": false, 
     "input": [
      "results.summary()"
     ], 
     "language": "python", 
     "outputs": [
      {
       "html": [
        "<table class=\"simpletable\">", 
        "<caption>OLS Regression Results</caption>", 
        "<tr>", 
        "  <th>Dep. Variable:</th>          <td>WAGE</td>       <th>  R-squared:         </th> <td>   0.025</td> ", 
        "</tr>", 
        "<tr>", 
        "  <th>Model:</th>                   <td>OLS</td>       <th>  Adj. R-squared:    </th> <td>   0.024</td> ", 
        "</tr>", 
        "<tr>", 
        "  <th>Method:</th>             <td>Least Squares</td>  <th>  F-statistic:       </th> <td>   83.68</td> ", 
        "</tr>", 
        "<tr>", 
        "  <th>Date:</th>             <td>Mon, 27 May 2013</td> <th>  Prob (F-statistic):</th> <td>9.93e-20</td> ", 
        "</tr>", 
        "<tr>", 
        "  <th>Time:</th>                 <td>14:45:40</td>     <th>  Log-Likelihood:    </th> <td> -9249.0</td> ", 
        "</tr>", 
        "<tr>", 
        "  <th>No. Observations:</th>      <td>  3296</td>      <th>  AIC:               </th> <td>1.850e+04</td>", 
        "</tr>", 
        "<tr>", 
        "  <th>Df Residuals:</th>          <td>  3294</td>      <th>  BIC:               </th> <td>1.851e+04</td>", 
        "</tr>", 
        "<tr>", 
        "  <th>Df Model:</th>              <td>     1</td>      <th>                     </th>     <td> </td>    ", 
        "</tr>", 
        "</table>", 
        "<table class=\"simpletable\">", 
        "<tr>", 
        "    <td></td>       <th>coef</th>     <th>std err</th>      <th>t</th>      <th>P>|t|</th> <th>[95.0% Conf. Int.]</th> ", 
        "</tr>", 
        "<tr>", 
        "  <th>const</th> <td>    5.1469</td> <td>    0.101</td> <td>   50.908</td> <td> 0.000</td> <td>    4.949     5.345</td>", 
        "</tr>", 
        "<tr>", 
        "  <th>MALE</th>  <td>    1.2777</td> <td>    0.140</td> <td>    9.148</td> <td> 0.000</td> <td>    1.004     1.552</td>", 
        "</tr>", 
        "</table>", 
        "<table class=\"simpletable\">", 
        "<tr>", 
        "  <th>Omnibus:</th>       <td>5216.168</td> <th>  Durbin-Watson:     </th>  <td>   1.929</td>  ", 
        "</tr>", 
        "<tr>", 
        "  <th>Prob(Omnibus):</th>  <td> 0.000</td>  <th>  Jarque-Bera (JB):  </th> <td>6604417.333</td>", 
        "</tr>", 
        "<tr>", 
        "  <th>Skew:</th>           <td> 9.695</td>  <th>  Prob(JB):          </th>  <td>    0.00</td>  ", 
        "</tr>", 
        "<tr>", 
        "  <th>Kurtosis:</th>       <td>221.436</td> <th>  Cond. No.          </th>  <td>    2.68</td>  ", 
        "</tr>", 
        "</table>"
       ], 
       "output_type": "pyout", 
       "prompt_number": 9, 
       "text": [
        "<class 'statsmodels.iolib.summary.Summary'>", 
        "\"\"\"", 
        "                            OLS Regression Results                            ", 
        "==============================================================================", 
        "Dep. Variable:                   WAGE   R-squared:                       0.025", 
        "Model:                            OLS   Adj. R-squared:                  0.024", 
        "Method:                 Least Squares   F-statistic:                     83.68", 
        "Date:                Mon, 27 May 2013   Prob (F-statistic):           9.93e-20", 
        "Time:                        14:45:40   Log-Likelihood:                -9249.0", 
        "No. Observations:                3296   AIC:                         1.850e+04", 
        "Df Residuals:                    3294   BIC:                         1.851e+04", 
        "Df Model:                           1                                         ", 
        "==============================================================================", 
        "                 coef    std err          t      P>|t|      [95.0% Conf. Int.]", 
        "------------------------------------------------------------------------------", 
        "const          5.1469      0.101     50.908      0.000         4.949     5.345", 
        "MALE           1.2777      0.140      9.148      0.000         1.004     1.552", 
        "==============================================================================", 
        "Omnibus:                     5216.168   Durbin-Watson:                   1.929", 
        "Prob(Omnibus):                  0.000   Jarque-Bera (JB):          6604417.333", 
        "Skew:                           9.695   Prob(JB):                         0.00", 
        "Kurtosis:                     221.436   Cond. No.                         2.68", 
        "==============================================================================", 
        "\"\"\""
       ]
      }
     ], 
     "prompt_number": 9
    }
   ]
  }
 ]
}